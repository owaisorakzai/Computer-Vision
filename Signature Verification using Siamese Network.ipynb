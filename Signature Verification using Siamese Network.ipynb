{
  "nbformat": 4,
  "nbformat_minor": 0,
  "metadata": {
    "colab": {
      "provenance": [],
      "authorship_tag": "ABX9TyMZOpdFwoOYwog6Qrpr/jcD",
      "include_colab_link": true
    },
    "kernelspec": {
      "name": "python3",
      "display_name": "Python 3"
    },
    "language_info": {
      "name": "python"
    },
    "accelerator": "GPU"
  },
  "cells": [
    {
      "cell_type": "markdown",
      "metadata": {
        "id": "view-in-github",
        "colab_type": "text"
      },
      "source": [
        "<a href=\"https://colab.research.google.com/github/owaisorakzai/Computer-Vision/blob/main/Signature%20Verification%20using%20Siamese%20Network.ipynb\" target=\"_parent\"><img src=\"https://colab.research.google.com/assets/colab-badge.svg\" alt=\"Open In Colab\"/></a>"
      ]
    },
    {
      "cell_type": "markdown",
      "source": [
        "**References**\n",
        "\n",
        "\n",
        "1.   https://www.kaggle.com/code/devicharith/siamese-model\n",
        "2.   https://keras.io/examples/vision/siamese_contrastive/\n",
        "\n"
      ],
      "metadata": {
        "id": "PnQGR-8JH-sG"
      }
    },
    {
      "cell_type": "code",
      "execution_count": 15,
      "metadata": {
        "id": "rKJjRAutBLIX"
      },
      "outputs": [],
      "source": [
        "import numpy as np\n",
        "import pandas as pd\n",
        "import tensorflow\n",
        "from keras import backend as K\n",
        "from keras.layers import Activation\n",
        "from keras.layers import Input, Lambda, Dense, Dropout, Convolution2D, MaxPooling2D, Flatten\n",
        "from keras.models import Sequential, Model\n",
        "from tensorflow.keras.optimizers import RMSprop\n",
        "from keras import optimizers\n",
        "from keras.models import load_model\n",
        "from keras import applications\n",
        "from tensorflow.keras import layers, models\n",
        "import cv2\n",
        "from keras import callbacks\n",
        "from keras.callbacks import ModelCheckpoint, LearningRateScheduler, EarlyStopping, ReduceLROnPlateau, TensorBoard\n",
        "import os\n",
        "from keras.models import Model,load_model\n",
        "from keras.layers import Dense, Dropout, Flatten, Conv2D, MaxPool2D, BatchNormalization\n",
        "from keras.utils.vis_utils import plot_model\n",
        "from tensorflow.keras.utils import to_categorical\n",
        "from sklearn.utils import shuffle\n",
        "from tensorflow.keras.applications import VGG16,ResNet50,MobileNet\n",
        "from keras.regularizers import l2\n",
        "import matplotlib.pyplot as plt\n",
        "from keras.utils.vis_utils import plot_model\n",
        "from keras import backend as K"
      ]
    },
    {
      "cell_type": "code",
      "source": [
        "from google.colab import drive\n",
        "drive.mount('/content/drive')"
      ],
      "metadata": {
        "colab": {
          "base_uri": "https://localhost:8080/"
        },
        "id": "smu0CljUHg54",
        "outputId": "3937418f-e0f0-402a-a5c3-e38afc286094"
      },
      "execution_count": 1,
      "outputs": [
        {
          "output_type": "stream",
          "name": "stdout",
          "text": [
            "Mounted at /content/drive\n"
          ]
        }
      ]
    },
    {
      "cell_type": "code",
      "source": [
        "train_dir=\"drive/MyDrive/sign_data/train/\" #Read train folder from drive\n",
        "train_csv=\"drive/MyDrive/sign_data/train_data.csv\" #Read csv file of images\n",
        "df_train=pd.read_csv(train_csv) #convert to pandas dataframe\n"
      ],
      "metadata": {
        "id": "nkiGAwI_HtyZ"
      },
      "execution_count": 2,
      "outputs": []
    },
    {
      "cell_type": "markdown",
      "source": [
        "# **Image Pairs for Siamese Network**"
      ],
      "metadata": {
        "id": "c3Cd8yG6_x4a"
      }
    },
    {
      "cell_type": "code",
      "source": [
        "\n",
        "train_images1 = []\n",
        "train_images2 = []\n",
        "train_labels = []\n",
        "\n",
        "for i in range(6000): \n",
        "    img1 = cv2.imread(train_dir+df_train.iat[i,0]) #Concat images directory path and name of image (real image) from csv to generate absolute path\n",
        "    img1 = cv2.cvtColor(img1, cv2.COLOR_BGR2RGB) #Convert image to RGB\n",
        "    img1 = cv2.resize(img1, (100, 100)) #Resize image 100x100x3 shape\n",
        "    train_images1.append([img1]) #Append image to train list\n",
        "    img2 = cv2.imread(train_dir+df_train.iat[i,1]) #Concat images directory path and name of image (Fake image) from csv to generate absolute path\n",
        "    img2 = cv2.cvtColor(img2, cv2.COLOR_BGR2RGB) #Convert image to RGB\n",
        "    img2 = cv2.resize(img2, (100, 100)) #Resize image 100x100x3 shape\n",
        "    train_images2.append([img2]) #Append image to train list\n",
        "    \n",
        "    train_labels.append(np.array(df_train.iat[i,2]))\n",
        "temp=train_labels\n",
        "train_images1 = np.array(train_images1)/255.0 #Normalize real images pixels and convert to numpy array\n",
        "train_images2 = np.array(train_images2)/255.0 #Normalize fake images pixels and convert to numpy array\n",
        "train_labels = np.array(train_labels) #Convert labels to numpy array"
      ],
      "metadata": {
        "id": "5LeWHE_WHzAh"
      },
      "execution_count": 3,
      "outputs": []
    },
    {
      "cell_type": "code",
      "source": [
        "train_labels = to_categorical(train_labels) #Convert labels to One-Hot Encoding"
      ],
      "metadata": {
        "id": "eWg82K70H0oz"
      },
      "execution_count": 4,
      "outputs": []
    },
    {
      "cell_type": "code",
      "source": [
        "train_images1,train_images2,train_labels = shuffle(train_images1,train_images2,train_labels) #Shuffle fake and real images along with labels\n"
      ],
      "metadata": {
        "id": "OKBywrPIH5EV"
      },
      "execution_count": 5,
      "outputs": []
    },
    {
      "cell_type": "code",
      "source": [
        "size = 100 #Size of image pixels\n",
        "train_images1 = train_images1.reshape(-1, size,size, 3)  #Reshape real images to (60000,100,100,3)\n",
        "train_images2 = train_images2.reshape(-1, size,size, 3)  #Reshape fake images to (60000,100,100,3)\n",
        "train_images2.shape"
      ],
      "metadata": {
        "colab": {
          "base_uri": "https://localhost:8080/"
        },
        "id": "q_qRGJwoH8Xv",
        "outputId": "0d0ef433-8eb4-4f4d-94ed-5811a3e8b771"
      },
      "execution_count": 6,
      "outputs": [
        {
          "output_type": "execute_result",
          "data": {
            "text/plain": [
              "(6000, 100, 100, 3)"
            ]
          },
          "metadata": {},
          "execution_count": 6
        }
      ]
    },
    {
      "cell_type": "code",
      "source": [
        "#Calculate distance between two pairs of images\n",
        "def euclidean_distance(vects):\n",
        "    x, y = vects #Get generated and actual label\n",
        "    return K.sqrt(K.sum(K.square(x - y), axis=1, keepdims=True)) #Formula of euclidean distance\n",
        "#Reshape euclidean dist output to fit last layer\n",
        "def eucl_dist_output_shape(shapes): \n",
        "    shape1, shape2 = shapes\n",
        "    return (shape1[0], 1)"
      ],
      "metadata": {
        "id": "u9nEsxhdH_b7"
      },
      "execution_count": 7,
      "outputs": []
    },
    {
      "cell_type": "markdown",
      "source": [
        "# **Model Architecture**"
      ],
      "metadata": {
        "id": "mcjbJg-YBj1F"
      }
    },
    {
      "cell_type": "code",
      "source": [
        "input_dim=(100,100,3) #Image dimension\n",
        "def build_base_network(input_shape):\n",
        "    \n",
        "    conv1=Convolution2D(64,(3,3),activation='relu',input_shape=input_dim) #Convolution layer with 64 (3,3) filters\n",
        "    conv2=Convolution2D(32,(3,3),activation='relu') #Convolution layer with 32 (3,3) filters\n",
        "    conv3=MaxPooling2D(3,3) #Max Pooling layer with (3,3) filter\n",
        "    flatten_layer = layers.Flatten() #Flatting layer\n",
        "    dense_layer_1 = layers.Dense(128, activation='relu') #Dense layer with 128 Neurons\n",
        "    dense_layer_2 = layers.Dense(64, activation='relu') #Dense layer with 64 Neurons\n",
        "    dense_layer_3 = layers.Dense(28, activation='relu') #Dense layer with 28 Neurons\n",
        "\n",
        "    model = models.Sequential([ #Model Architecture\n",
        "        conv1,\n",
        "        conv2,\n",
        "        conv3,\n",
        "        flatten_layer,\n",
        "        dense_layer_1,\n",
        "        dense_layer_2,\n",
        "        dense_layer_3\n",
        "    ])\n",
        "    return model\n",
        "\n",
        "base_network = build_base_network(input_dim) #Building base network\n",
        "\n",
        "img_a = Input(shape=input_dim)\n",
        "img_b = Input(shape=input_dim)\n",
        "feat_vecs_a = base_network(img_a)\n",
        "feat_vecs_b = base_network(img_b)\n",
        "\n",
        "distance = Lambda(euclidean_distance, output_shape=eucl_dist_output_shape)([feat_vecs_a, feat_vecs_b])\n",
        "\n",
        "prediction = Dense(2,activation='softmax')(distance) #Output layer"
      ],
      "metadata": {
        "id": "ogCUKP6dICDt"
      },
      "execution_count": 8,
      "outputs": []
    },
    {
      "cell_type": "code",
      "source": [
        "model = Model([img_a, img_b],prediction) #Building model\n",
        "model.summary()\n",
        "plot_model(model, to_file='model_plot.png', show_shapes=True, show_layer_names=True)\n"
      ],
      "metadata": {
        "colab": {
          "base_uri": "https://localhost:8080/",
          "height": 806
        },
        "id": "az316iE4IFGS",
        "outputId": "2ac56be4-832a-4642-bf5b-b504780d1574"
      },
      "execution_count": 16,
      "outputs": [
        {
          "output_type": "stream",
          "name": "stdout",
          "text": [
            "Model: \"model_1\"\n",
            "__________________________________________________________________________________________________\n",
            " Layer (type)                   Output Shape         Param #     Connected to                     \n",
            "==================================================================================================\n",
            " input_2 (InputLayer)           [(None, 100, 100, 3  0           []                               \n",
            "                                )]                                                                \n",
            "                                                                                                  \n",
            " input_3 (InputLayer)           [(None, 100, 100, 3  0           []                               \n",
            "                                )]                                                                \n",
            "                                                                                                  \n",
            " sequential (Sequential)        (None, 28)           4224764     ['input_2[0][0]',                \n",
            "                                                                  'input_3[0][0]']                \n",
            "                                                                                                  \n",
            " lambda (Lambda)                (None, 1)            0           ['sequential[0][0]',             \n",
            "                                                                  'sequential[1][0]']             \n",
            "                                                                                                  \n",
            " dense_3 (Dense)                (None, 2)            4           ['lambda[0][0]']                 \n",
            "                                                                                                  \n",
            "==================================================================================================\n",
            "Total params: 4,224,768\n",
            "Trainable params: 4,224,768\n",
            "Non-trainable params: 0\n",
            "__________________________________________________________________________________________________\n"
          ]
        },
        {
          "output_type": "execute_result",
          "data": {
            "image/png": "[encoded data removed]",
            "text/plain": [
              "<IPython.core.display.Image object>"
            ]
          },
          "metadata": {},
          "execution_count": 16
        }
      ]
    },
    {
      "cell_type": "code",
      "source": [
        "#Loss function\n",
        "def loss(margin=1):\n",
        "    import tensorflow as tf\n",
        "    # Contrastive loss = mean( (1-true_value) * square(prediction) +\n",
        "    #                         true_value * square( max(margin-prediction, 0) ))\n",
        "    def contrastive_loss(y_true, y_pred):\n",
        "        square_pred = tf.math.square(y_pred)\n",
        "        margin_square = tf.math.square(tf.math.maximum(margin - (y_pred), 0))\n",
        "        return tf.math.reduce_mean(\n",
        "            (1 - y_true) * square_pred + (y_true) * margin_square\n",
        "        )\n",
        "\n",
        "    return contrastive_loss"
      ],
      "metadata": {
        "id": "yz5BG7jvIIGP"
      },
      "execution_count": 10,
      "outputs": []
    },
    {
      "cell_type": "code",
      "source": [
        "model.compile(loss=loss(margin=1), optimizer=tensorflow.keras.optimizers.Adam()\n",
        "              , metrics=[\"accuracy\"]) #Model settings\n",
        "es = EarlyStopping(monitor='val_accuracy', mode='max', patience=10,  restore_best_weights=True) #Early stopping to avoid overfitting\n",
        "history=model.fit([train_images1,train_images2],train_labels,validation_split=.2,batch_size= 32, epochs=20 ,callbacks=[es]) #Model Training"
      ],
      "metadata": {
        "colab": {
          "base_uri": "https://localhost:8080/"
        },
        "id": "PagrWo0lILxA",
        "outputId": "0ce24ad0-8c01-4540-c282-eba762df8403"
      },
      "execution_count": 11,
      "outputs": [
        {
          "output_type": "stream",
          "name": "stdout",
          "text": [
            "Epoch 1/20\n",
            "150/150 [==============================] - 20s 57ms/step - loss: 0.1581 - accuracy: 0.7385 - val_loss: 0.1243 - val_accuracy: 0.9433\n",
            "Epoch 2/20\n",
            "150/150 [==============================] - 6s 42ms/step - loss: 0.0996 - accuracy: 0.9904 - val_loss: 0.0850 - val_accuracy: 1.0000\n",
            "Epoch 3/20\n",
            "150/150 [==============================] - 6s 42ms/step - loss: 0.0696 - accuracy: 0.9998 - val_loss: 0.0606 - val_accuracy: 1.0000\n",
            "Epoch 4/20\n",
            "150/150 [==============================] - 6s 43ms/step - loss: 0.0506 - accuracy: 1.0000 - val_loss: 0.0458 - val_accuracy: 1.0000\n",
            "Epoch 5/20\n",
            "150/150 [==============================] - 6s 43ms/step - loss: 0.0376 - accuracy: 1.0000 - val_loss: 0.0331 - val_accuracy: 1.0000\n",
            "Epoch 6/20\n",
            "150/150 [==============================] - 6s 43ms/step - loss: 0.0285 - accuracy: 1.0000 - val_loss: 0.0257 - val_accuracy: 1.0000\n",
            "Epoch 7/20\n",
            "150/150 [==============================] - 6s 43ms/step - loss: 0.0222 - accuracy: 1.0000 - val_loss: 0.0200 - val_accuracy: 1.0000\n",
            "Epoch 8/20\n",
            "150/150 [==============================] - 6s 43ms/step - loss: 0.0176 - accuracy: 1.0000 - val_loss: 0.0163 - val_accuracy: 1.0000\n",
            "Epoch 9/20\n",
            "150/150 [==============================] - 6s 43ms/step - loss: 0.0143 - accuracy: 1.0000 - val_loss: 0.0132 - val_accuracy: 1.0000\n",
            "Epoch 10/20\n",
            "150/150 [==============================] - 6s 43ms/step - loss: 0.0117 - accuracy: 1.0000 - val_loss: 0.0108 - val_accuracy: 1.0000\n",
            "Epoch 11/20\n",
            "150/150 [==============================] - 6s 43ms/step - loss: 0.0097 - accuracy: 1.0000 - val_loss: 0.0090 - val_accuracy: 1.0000\n",
            "Epoch 12/20\n",
            "150/150 [==============================] - 6s 43ms/step - loss: 0.0082 - accuracy: 1.0000 - val_loss: 0.0076 - val_accuracy: 1.0000\n"
          ]
        }
      ]
    },
    {
      "cell_type": "code",
      "source": [
        "plt.plot(history.history['accuracy']) #Get accuracy history of trained model\n",
        "plt.plot(history.history['val_accuracy']) #Get validation accuracy\n",
        "plt.title('model accuracy') #Set title of graph\n",
        "plt.ylabel('accuracy') #Set y label\n",
        "plt.xlabel('epoch') #Set x label\n",
        "plt.legend(['train', 'test'], loc='lower right') #Set legends of graph\n",
        "plt.show() #Plot graph"
      ],
      "metadata": {
        "colab": {
          "base_uri": "https://localhost:8080/",
          "height": 295
        },
        "id": "SMAJQS_iNNMb",
        "outputId": "03e2c29f-c519-457b-ba65-39083f313a38"
      },
      "execution_count": 17,
      "outputs": [
        {
          "output_type": "display_data",
          "data": {
            "text/plain": [
              "<Figure size 432x288 with 1 Axes>"
            ],
            "image/png": "[encoded data removed]"
          },
          "metadata": {
            "needs_background": "light"
          }
        }
      ]
    }
  ]
}