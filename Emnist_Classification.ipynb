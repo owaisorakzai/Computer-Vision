{
  "nbformat": 4,
  "nbformat_minor": 0,
  "metadata": {
    "colab": {
      "name": "Emnist Classification.ipynb",
      "provenance": [],
      "collapsed_sections": [],
      "authorship_tag": "ABX9TyP+i5CAPvjfvgeIPTP1EUvA",
      "include_colab_link": true
    },
    "kernelspec": {
      "name": "python3",
      "display_name": "Python 3"
    },
    "language_info": {
      "name": "python"
    },
    "accelerator": "GPU"
  },
  "cells": [
    {
      "cell_type": "markdown",
      "metadata": {
        "id": "view-in-github",
        "colab_type": "text"
      },
      "source": [
        "<a href=\"https://colab.research.google.com/github/owaisorakzai/Computer-Vision/blob/main/Emnist_Classification.ipynb\" target=\"_parent\"><img src=\"https://colab.research.google.com/assets/colab-badge.svg\" alt=\"Open In Colab\"/></a>"
      ]
    },
    {
      "cell_type": "code",
      "metadata": {
        "id": "fZybjC33XMx8",
        "colab": {
          "base_uri": "https://localhost:8080/"
        },
        "outputId": "f45719f8-9e68-47d2-c8ab-4e734b027e47"
      },
      "source": [
        "import idx2numpy\n",
        "from google.colab import files\n",
        "from google.colab import drive \n",
        "drive.mount('/content/gdrive')\n"
      ],
      "execution_count": null,
      "outputs": [
        {
          "output_type": "stream",
          "text": [
            "Mounted at /content/gdrive\n"
          ],
          "name": "stdout"
        }
      ]
    },
    {
      "cell_type": "code",
      "metadata": {
        "id": "PVdxfgLRdJS8"
      },
      "source": [
        "import torch"
      ],
      "execution_count": null,
      "outputs": []
    },
    {
      "cell_type": "code",
      "metadata": {
        "id": "_05SNydlXbVe"
      },
      "source": [
        ""
      ],
      "execution_count": null,
      "outputs": []
    },
    {
      "cell_type": "code",
      "metadata": {
        "id": "WIsbszjlW43w"
      },
      "source": [
        "f_read = open('gdrive/My Drive/dataset/emnist-balanced-train-images-idx3-ubyte', 'rb')\n",
        "train = idx2numpy.convert_from_file(f_read)\n",
        "f_read = open('gdrive/My Drive/dataset/emnist-balanced-train-labels-idx1-ubyte', 'rb')\n",
        "train_labels = idx2numpy.convert_from_file(f_read)"
      ],
      "execution_count": null,
      "outputs": []
    },
    {
      "cell_type": "code",
      "metadata": {
        "colab": {
          "base_uri": "https://localhost:8080/",
          "height": 282
        },
        "id": "Vo3iqabPXn1-",
        "outputId": "7214aa10-a137-4285-9e89-7394bdda2821"
      },
      "source": [
        "import matplotlib.pyplot as plt\n",
        "import numpy as np\n",
        "plt.imshow(train[100])\n",
        "train_labels=train_labels.reshape(112800,1)\n",
        "max=np.max(train_labels)\n",
        "min=np.min(train_labels)\n",
        "\n",
        "train_labels[13187]\n",
        "\n"
      ],
      "execution_count": null,
      "outputs": [
        {
          "output_type": "execute_result",
          "data": {
            "text/plain": [
              "array([32], dtype=uint8)"
            ]
          },
          "metadata": {
            "tags": []
          },
          "execution_count": 5
        },
        {
          "output_type": "display_data",
          "data": {
            "image/png": "[encoded data removed]",
            "text/plain": [
              "<Figure size 432x288 with 1 Axes>"
            ]
          },
          "metadata": {
            "tags": [],
            "needs_background": "light"
          }
        }
      ]
    },
    {
      "cell_type": "code",
      "metadata": {
        "id": "xZ5o9qkYetRn"
      },
      "source": [
        "import os.path\n",
        "from os import path\n",
        "os.mkdir(\"Project/\")\n",
        "os.mkdir(\"Project/train\")\n",
        "os.mkdir(\"Project/test\")\n",
        "\n"
      ],
      "execution_count": null,
      "outputs": []
    },
    {
      "cell_type": "code",
      "metadata": {
        "colab": {
          "base_uri": "https://localhost:8080/"
        },
        "id": "tuGjEG5jfMWC",
        "outputId": "65aced41-c1ac-4ef7-a29d-fa7031660316"
      },
      "source": [
        "from PIL import Image\n",
        "i=0\n",
        "\n",
        "print()\n",
        "while i<=max:\n",
        "  dir='Project/train/'+str(i)+'/'\n",
        "  os.mkdir(dir)\n",
        "  j=0\n",
        "  while j<train_labels.shape[0]:\n",
        "    if i==train_labels[j]:\n",
        "      img = Image.fromarray(train[j], 'L')\n",
        "      direct=dir+str(j)+\".jpeg\"\n",
        "      img.save(direct)\n",
        "    j+=1\n",
        "  i+=1\n"
      ],
      "execution_count": null,
      "outputs": [
        {
          "output_type": "stream",
          "text": [
            "\n"
          ],
          "name": "stdout"
        }
      ]
    },
    {
      "cell_type": "code",
      "metadata": {
        "id": "dwr2GITCiU_O"
      },
      "source": [
        ""
      ],
      "execution_count": null,
      "outputs": []
    },
    {
      "cell_type": "code",
      "metadata": {
        "id": "8qePhiPAlb16"
      },
      "source": [
        "f_read = open('gdrive/My Drive/dataset/emnist-balanced-test-images-idx3-ubyte', 'rb')\n",
        "test = idx2numpy.convert_from_file(f_read)\n",
        "f_read = open('gdrive/My Drive/dataset/emnist-balanced-test-labels-idx1-ubyte', 'rb')\n",
        "test_labels = idx2numpy.convert_from_file(f_read)"
      ],
      "execution_count": null,
      "outputs": []
    },
    {
      "cell_type": "code",
      "metadata": {
        "colab": {
          "base_uri": "https://localhost:8080/",
          "height": 282
        },
        "id": "zwT01hwzl00n",
        "outputId": "5407cbdc-9b9b-4ddb-e1b3-371a18c12868"
      },
      "source": [
        "plt.imshow(test[2])\n",
        "train_labels=test_labels.reshape(18800,1)\n",
        "max=np.max(test_labels)\n",
        "min=np.min(test_labels)\n",
        "print(max,min)"
      ],
      "execution_count": null,
      "outputs": [
        {
          "output_type": "stream",
          "text": [
            "46 0\n"
          ],
          "name": "stdout"
        },
        {
          "output_type": "display_data",
          "data": {
            "image/png": "[encoded data removed]",
            "text/plain": [
              "<Figure size 432x288 with 1 Axes>"
            ]
          },
          "metadata": {
            "tags": [],
            "needs_background": "light"
          }
        }
      ]
    },
    {
      "cell_type": "code",
      "metadata": {
        "colab": {
          "base_uri": "https://localhost:8080/"
        },
        "id": "f7DTFXytmMQi",
        "outputId": "8a81eb50-ed02-4f24-ee80-03f30836c169"
      },
      "source": [
        "from PIL import Image\n",
        "i=0\n",
        "print()\n",
        "while i<=max:\n",
        "  dir='Project/test/'+str(i)+'/'\n",
        "  os.mkdir(dir)\n",
        "  j=0\n",
        "  while j<test_labels.shape[0]:\n",
        "    if i==test_labels[j]:\n",
        "      img = Image.fromarray(test[j], 'L')\n",
        "      direct=dir+str(j)+\".jpeg\"\n",
        "      img.save(direct)\n",
        "    j+=1\n",
        "  i+=1"
      ],
      "execution_count": null,
      "outputs": [
        {
          "output_type": "stream",
          "text": [
            "\n"
          ],
          "name": "stdout"
        }
      ]
    },
    {
      "cell_type": "code",
      "metadata": {
        "colab": {
          "base_uri": "https://localhost:8080/"
        },
        "id": "sE9l3Ymbn5U2",
        "outputId": "405d4420-9e65-4991-c3bd-f43ccaaf8779"
      },
      "source": [
        "import torchvision\n",
        "import torch.utils.data as data\n",
        "train = torchvision.datasets.ImageFolder(root='Project/train',\ttransform=torchvision.transforms.Compose([\n",
        "\t\ttorchvision.transforms.ToTensor()\n",
        "\t]))\n",
        "train_set = torch.utils.data.DataLoader(train, batch_size=4,\n",
        "                                          shuffle=True)\n",
        "train_set\n"
      ],
      "execution_count": null,
      "outputs": [
        {
          "output_type": "execute_result",
          "data": {
            "text/plain": [
              "<torch.utils.data.dataloader.DataLoader at 0x7fc7f97cdf10>"
            ]
          },
          "metadata": {
            "tags": []
          },
          "execution_count": 13
        }
      ]
    },
    {
      "cell_type": "code",
      "metadata": {
        "id": "mDj8ZF5tfNOT",
        "colab": {
          "base_uri": "https://localhost:8080/"
        },
        "outputId": "4236f921-3f6f-47c0-8c79-dd8c5f307c43"
      },
      "source": [
        "import torch\n",
        "import torch.nn as nn\n",
        "import torch.nn.functional as F\n",
        "epochs=1\n",
        "batch_size=1\n",
        "learning_rate=0.01\n",
        "device = torch.device('cuda' if torch.cuda.is_available() else 'cpu')\n",
        "class ConvNet(nn.Module):\n",
        "    def __init__(self):\n",
        "        super(ConvNet, self).__init__()\n",
        "        self.conv1 = nn.Conv2d(3, 10, 3)\n",
        "        self.conv2 = nn.Conv2d(10, 40, 3)\n",
        "        self.conv3 = nn.Conv2d(40,80 , 3)\n",
        "        self.conv4 = nn.Conv2d(80, 100, 3)\n",
        "\n",
        "\n",
        "        self.fc1 = nn.Linear(20 * 20 *100, 120)\n",
        "        self.fc2 = nn.Linear(120, 80)\n",
        "        self.fc3 = nn.Linear(80, 47)\n",
        "\n",
        "    def forward(self, x):\n",
        "        # -> n, 3, 32, 32\n",
        "        x = F.relu(self.conv1(x))\n",
        "        x = F.relu(self.conv2(x))\n",
        "        x = F.relu(self.conv3(x)) \n",
        "        x = F.relu(self.conv4(x))\n",
        "        x = x.view(-1, 20 * 20 * 100)         \n",
        "        x = F.relu(self.fc1(x))           \n",
        "        x = F.relu(self.fc2(x))          \n",
        "        x = self.fc3(x)             \n",
        "        return x\n",
        "\n",
        "\n",
        "model = ConvNet().to(device)\n",
        "\n",
        "criterion = nn.CrossEntropyLoss()\n",
        "optimizer = torch.optim.SGD(model.parameters(), lr=learning_rate)\n",
        "\n",
        "n_total_steps = len(train_set)\n",
        "for epoch in range(epochs):\n",
        "    for i, (images, labels) in enumerate(train_set,0):\n",
        "        images = images.to(device)\n",
        "        labels = labels.to(device)\n",
        "        outputs = model(images)\n",
        "        loss = criterion(outputs, labels)\n",
        "\n",
        "        optimizer.zero_grad()\n",
        "        loss.backward()\n",
        "        optimizer.step()\n",
        "\n",
        "        if (i+1) % 2000 == 0:\n",
        "            print (f'Epoch [{epoch+1}/{epochs}], Step [{i+1}/{n_total_steps}], Loss: {loss.item():.4f}')"
      ],
      "execution_count": null,
      "outputs": [
        {
          "output_type": "stream",
          "text": [
            "Epoch [1/1], Step [2000/28200], Loss: 3.7630\n",
            "Epoch [1/1], Step [4000/28200], Loss: 1.7268\n",
            "Epoch [1/1], Step [6000/28200], Loss: 1.0825\n",
            "Epoch [1/1], Step [8000/28200], Loss: 2.0056\n",
            "Epoch [1/1], Step [10000/28200], Loss: 0.9542\n",
            "Epoch [1/1], Step [12000/28200], Loss: 0.7347\n",
            "Epoch [1/1], Step [14000/28200], Loss: 0.1198\n",
            "Epoch [1/1], Step [16000/28200], Loss: 0.0683\n",
            "Epoch [1/1], Step [18000/28200], Loss: 0.5926\n",
            "Epoch [1/1], Step [20000/28200], Loss: 0.0747\n",
            "Epoch [1/1], Step [22000/28200], Loss: 0.0857\n",
            "Epoch [1/1], Step [24000/28200], Loss: 0.3163\n",
            "Epoch [1/1], Step [26000/28200], Loss: 0.1345\n",
            "Epoch [1/1], Step [28000/28200], Loss: 1.4539\n"
          ],
          "name": "stdout"
        }
      ]
    },
    {
      "cell_type": "code",
      "metadata": {
        "id": "4tJImRdVwuxc"
      },
      "source": [
        "PATH = 'gdrive/My Drive/dataset/model.pth'\n",
        "torch.save(model.state_dict(), PATH)\n",
        "\n",
        "\n",
        "test = torchvision.datasets.ImageFolder(root='Project/test',\ttransform=torchvision.transforms.Compose([\n",
        "\t\ttorchvision.transforms.ToTensor()\n",
        "\t]))\n",
        "test_set = torch.utils.data.DataLoader(train, batch_size=4,\n",
        "                                          shuffle=True)\n"
      ],
      "execution_count": null,
      "outputs": []
    },
    {
      "cell_type": "code",
      "metadata": {
        "colab": {
          "base_uri": "https://localhost:8080/"
        },
        "id": "0XtFFnC2O166",
        "outputId": "6e6499ea-e2b6-4322-fcaf-3764a132eedd"
      },
      "source": [
        "correct = 0\n",
        "total = 0\n",
        "\n",
        "with torch.no_grad():\n",
        "    for data in test_set:\n",
        "        images,labels=data\n",
        "        images, labels = images.to(device), labels.to(device)\n",
        "        outputs = model(images)\n",
        "        _, predicted = torch.max(outputs.data, 1)\n",
        "        total += labels.size(0)\n",
        "        correct += (predicted == labels).sum().item()\n",
        "\n",
        "print('Accuracy of the network on the 10000 test images: %d %%' % (\n",
        "    100 * correct / total))"
      ],
      "execution_count": null,
      "outputs": [
        {
          "output_type": "stream",
          "text": [
            "Accuracy of the network on the 10000 test images: 85 %\n"
          ],
          "name": "stdout"
        }
      ]
    },
    {
      "cell_type": "code",
      "metadata": {
        "colab": {
          "base_uri": "https://localhost:8080/"
        },
        "id": "xCcYKC6WVvnq",
        "outputId": "76002731-4740-4cdd-bcb1-fa11c673cfeb"
      },
      "source": [
        "f = open(\"gdrive/My Drive/dataset/classes.txt\", \"w\")\n",
        "f.write(\"mu\")"
      ],
      "execution_count": null,
      "outputs": [
        {
          "output_type": "execute_result",
          "data": {
            "text/plain": [
              "2"
            ]
          },
          "metadata": {
            "tags": []
          },
          "execution_count": 104
        }
      ]
    }
  ]
}